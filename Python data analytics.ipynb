{
 "cells": [
  {
   "cell_type": "code",
   "execution_count": 1,
   "metadata": {},
   "outputs": [],
   "source": [
    "# Imports\n",
    "import numpy as np"
   ]
  },
  {
   "cell_type": "code",
   "execution_count": null,
   "metadata": {},
   "outputs": [],
   "source": [
    "# Receiving user input\n",
    "\n",
    "name = input(\"Digite seu nome: \")"
   ]
  },
  {
   "cell_type": "code",
   "execution_count": 2,
   "metadata": {},
   "outputs": [
    {
     "name": "stdout",
     "output_type": "stream",
     "text": [
      "Olá leo, feliz em dizer: hello world!\n"
     ]
    }
   ],
   "source": [
    "print(\"Olá \" + name + \", feliz em dizer: hello world!\")"
   ]
  },
  {
   "cell_type": "code",
   "execution_count": null,
   "metadata": {},
   "outputs": [],
   "source": [
    "# Dictionaries\n",
    "\n",
    "dict = {\"nome\":\"leo\", \"idade\":-5, \"cidade\":\"delhi\"}"
   ]
  },
  {
   "cell_type": "code",
   "execution_count": 10,
   "metadata": {},
   "outputs": [
    {
     "data": {
      "text/plain": [
       "'leo'"
      ]
     },
     "execution_count": 10,
     "metadata": {},
     "output_type": "execute_result"
    }
   ],
   "source": [
    "dict[\"nome\"]"
   ]
  },
  {
   "cell_type": "code",
   "execution_count": null,
   "metadata": {},
   "outputs": [
    {
     "name": "stdout",
     "output_type": "stream",
     "text": [
      "nome leo\n",
      "idade -5\n",
      "cidade delhi\n"
     ]
    }
   ],
   "source": [
    "# To print all dictionary values\n",
    "\n",
    "for key, value in dict.items():\n",
    "    print(key, value)"
   ]
  },
  {
   "cell_type": "code",
   "execution_count": null,
   "metadata": {},
   "outputs": [
    {
     "data": {
      "text/plain": [
       "[1, 2, 3, 4]"
      ]
     },
     "execution_count": 1,
     "metadata": {},
     "output_type": "execute_result"
    }
   ],
   "source": [
    "# lists\n",
    "list = [1,2,3,4]\n",
    "list"
   ]
  },
  {
   "cell_type": "markdown",
   "metadata": {},
   "source": [
    "#### numpy"
   ]
  },
  {
   "cell_type": "code",
   "execution_count": null,
   "metadata": {},
   "outputs": [
    {
     "data": {
      "text/plain": [
       "array([1, 2, 3])"
      ]
     },
     "execution_count": 3,
     "metadata": {},
     "output_type": "execute_result"
    }
   ],
   "source": [
    "# ndarray -> n-dimensional array\n",
    "a = np.array([1,2,3])\n",
    "a"
   ]
  },
  {
   "cell_type": "code",
   "execution_count": 4,
   "metadata": {},
   "outputs": [
    {
     "data": {
      "text/plain": [
       "dtype('int64')"
      ]
     },
     "execution_count": 4,
     "metadata": {},
     "output_type": "execute_result"
    }
   ],
   "source": [
    "a.dtype"
   ]
  },
  {
   "cell_type": "code",
   "execution_count": null,
   "metadata": {},
   "outputs": [
    {
     "name": "stdout",
     "output_type": "stream",
     "text": [
      "1\n",
      "3\n",
      "(3,)\n"
     ]
    }
   ],
   "source": [
    "# Dimensão do array\n",
    "print(a.ndim)\n",
    "# Size of array with 3 values\n",
    "print(a.size)\n",
    "# The format of the array, showing that it has only three values ​​in \"row\" and no values ​​in \"column\"\n",
    "print(a.shape)"
   ]
  },
  {
   "cell_type": "code",
   "execution_count": null,
   "metadata": {},
   "outputs": [
    {
     "name": "stdout",
     "output_type": "stream",
     "text": [
      "float64\n",
      "2\n",
      "4\n",
      "(2, 2)\n"
     ]
    }
   ],
   "source": [
    "# Creating a matrix\n",
    "b = np.array([[1.3, 2.4],[0.3, 4.1]])\n",
    "print(b.dtype)\n",
    "print(b.ndim)\n",
    "print(b.size)\n",
    "print(b.shape)"
   ]
  },
  {
   "cell_type": "code",
   "execution_count": null,
   "metadata": {},
   "outputs": [
    {
     "name": "stdout",
     "output_type": "stream",
     "text": [
      "8\n",
      "<memory at 0x0000028DACB4BE00>\n"
     ]
    }
   ],
   "source": [
    "# Size in bytes\n",
    "print(b.itemsize) \n",
    "# Location in the memory\n",
    "print(b.data)"
   ]
  },
  {
   "cell_type": "code",
   "execution_count": 37,
   "metadata": {},
   "outputs": [
    {
     "name": "stdout",
     "output_type": "stream",
     "text": [
      "[[1 2 3]\n",
      " [4 5 6]] \n",
      "\n",
      "[[1 2 3]\n",
      " [4 5 6]\n",
      " [7 8 9]]\n"
     ]
    }
   ],
   "source": [
    "# The array() function, in addition to lists, can accept tuples and sequences of tuples.\n",
    "c = np.array(((1,2,3),(4,5,6)))\n",
    "# It can also accept sequences of tuples and interconnected lists.\n",
    "d = np.array([(1,2,3),[4,5,6],(7,8,9)])\n",
    "\n",
    "print(c,'\\n')\n",
    "print(d)"
   ]
  },
  {
   "cell_type": "code",
   "execution_count": null,
   "metadata": {},
   "outputs": [
    {
     "data": {
      "text/plain": [
       "array([['a', 'b'],\n",
       "       ['c', 'd']], dtype='<U1')"
      ]
     },
     "execution_count": 16,
     "metadata": {},
     "output_type": "execute_result"
    }
   ],
   "source": [
    "# remembering we can use string type too.\n",
    "# all supported types are in Python Data Analytics With Pandas, Numpy, and Matplotlib.docx.\n",
    "e = np.array([['a','b'],['c','d']])\n",
    "e"
   ]
  },
  {
   "cell_type": "code",
   "execution_count": 2,
   "metadata": {},
   "outputs": [
    {
     "data": {
      "text/plain": [
       "array([[1.+0.j, 2.+0.j, 3.+0.j],\n",
       "       [4.+0.j, 5.+0.j, 6.+0.j]])"
      ]
     },
     "execution_count": 2,
     "metadata": {},
     "output_type": "execute_result"
    }
   ],
   "source": [
    "# For set a type to your list or tuples\n",
    "f = np.array( [ [1,2,3],[4,5,6] ], dtype=complex )\n",
    "f"
   ]
  },
  {
   "cell_type": "code",
   "execution_count": null,
   "metadata": {},
   "outputs": [
    {
     "data": {
      "text/plain": [
       "array([[0., 0., 0.],\n",
       "       [0., 0., 0.],\n",
       "       [0., 0., 0.]])"
      ]
     },
     "execution_count": 5,
     "metadata": {},
     "output_type": "execute_result"
    }
   ],
   "source": [
    "# The zeros() function, for example, creates a full array of zeros with dimensions\n",
    "# defined by the shape argument. For example, to create a two-dimensional array 3x3,\n",
    "# you can use:\n",
    "np.zeros((3,3))"
   ]
  },
  {
   "cell_type": "code",
   "execution_count": null,
   "metadata": {},
   "outputs": [
    {
     "data": {
      "text/plain": [
       "array([[1., 1., 1.],\n",
       "       [1., 1., 1.],\n",
       "       [1., 1., 1.]])"
      ]
     },
     "execution_count": 7,
     "metadata": {},
     "output_type": "execute_result"
    }
   ],
   "source": [
    "# While the ones() function:\n",
    "np.ones((3,3))"
   ]
  },
  {
   "cell_type": "code",
   "execution_count": 36,
   "metadata": {},
   "outputs": [
    {
     "name": "stdout",
     "output_type": "stream",
     "text": [
      "[0 1 2 3 4 5 6 7 8 9]\n",
      "[4 5 6 7 8 9] \n",
      "\n",
      "[ 0  1  2  3  4  5  6  7  8  9 10]\n",
      "[ 4  5  6  7  8  9 10]\n"
     ]
    }
   ],
   "source": [
    "# arange() function generates NumPy arrays\n",
    "# with numerical sequences that respond to particular rules depending on the passed\n",
    "# arguments:\n",
    "print(np.arange(0,10))\n",
    "print(np.arange(4,10), '\\n')\n",
    "print(np.arange(0,11))\n",
    "print(np.arange(4,11))"
   ]
  },
  {
   "cell_type": "code",
   "execution_count": null,
   "metadata": {},
   "outputs": [
    {
     "data": {
      "text/plain": [
       "array([ 0,  2,  4,  6,  8, 10])"
      ]
     },
     "execution_count": 12,
     "metadata": {},
     "output_type": "execute_result"
    }
   ],
   "source": [
    "# It is also possible to generate a sequence of values with precise intervals between them\n",
    "# adding the third argument:\n",
    "np.arange(0,11,2)\n",
    "# In addition, this third argument can also be a float."
   ]
  },
  {
   "cell_type": "code",
   "execution_count": 16,
   "metadata": {},
   "outputs": [
    {
     "data": {
      "text/plain": [
       "array([[ 0,  1,  2,  3],\n",
       "       [ 4,  5,  6,  7],\n",
       "       [ 8,  9, 10, 11]])"
      ]
     },
     "execution_count": 16,
     "metadata": {},
     "output_type": "execute_result"
    }
   ],
   "source": [
    "# reshape() function divides a linear array in different parts in the manner\n",
    "# specified by the shape argument:\n",
    "np.arange(0,12).reshape(3,4)"
   ]
  },
  {
   "cell_type": "code",
   "execution_count": null,
   "metadata": {},
   "outputs": [],
   "source": [
    "# Remembering that to cut the array, the values ​​must be divisible by the size of the array\n",
    "# or you will get a error: \"cannot reshape array of size 11 into shape (3,4)\"\n",
    "np.arange(0,11).reshape(3,4)"
   ]
  },
  {
   "cell_type": "code",
   "execution_count": 19,
   "metadata": {},
   "outputs": [
    {
     "data": {
      "text/plain": [
       "array([ 0,  2,  5,  8, 11])"
      ]
     },
     "execution_count": 19,
     "metadata": {},
     "output_type": "execute_result"
    }
   ],
   "source": [
    "# linspace() function the third argument defines the\n",
    "# number of elements into which we want the interval to be split.\n",
    "np.linspace(0,11,5, dtype=int)"
   ]
  },
  {
   "cell_type": "code",
   "execution_count": 35,
   "metadata": {},
   "outputs": [
    {
     "name": "stdout",
     "output_type": "stream",
     "text": [
      "[0.86627533 0.34843748 0.65692947] \n",
      "\n",
      "[[0.72990689 0.87374301 0.90667513]\n",
      " [0.9140526  0.31783006 0.40313131]\n",
      " [0.60395049 0.52680533 0.22082555]]\n"
     ]
    }
   ],
   "source": [
    "# random functon:\n",
    "print(np.random.random(3), '\\n')\n",
    "print(np.random.random((3,3)))"
   ]
  },
  {
   "cell_type": "markdown",
   "metadata": {},
   "source": [
    "### Basic Operations"
   ]
  },
  {
   "cell_type": "code",
   "execution_count": 38,
   "metadata": {},
   "outputs": [
    {
     "name": "stdout",
     "output_type": "stream",
     "text": [
      "[1 2 3 4] \n",
      "\n",
      "Add:  [5 6 7 8]\n",
      "Sub:  [-3 -2 -1  0]\n",
      "Multi:  [ 4  8 12 16]\n",
      "Div:  [0.25 0.5  0.75 1.  ]\n"
     ]
    }
   ],
   "source": [
    "# arithmetic operators\n",
    "a = np.arange(1,5)\n",
    "print(a, '\\n')\n",
    "print('Add: ', a + 4)\n",
    "print('Sub: ', a - 4)\n",
    "print('Multi: ', a * 4)\n",
    "print('Div: ', a / 4)"
   ]
  },
  {
   "cell_type": "code",
   "execution_count": 1,
   "metadata": {},
   "outputs": [
    {
     "ename": "NameError",
     "evalue": "name 'np' is not defined",
     "output_type": "error",
     "traceback": [
      "\u001b[1;31m---------------------------------------------------------------------------\u001b[0m",
      "\u001b[1;31mNameError\u001b[0m                                 Traceback (most recent call last)",
      "Cell \u001b[1;32mIn[1], line 5\u001b[0m\n\u001b[0;32m      1\u001b[0m \u001b[38;5;66;03m# These operators can also be used between two arrays. In NumPy, these operations\u001b[39;00m\n\u001b[0;32m      2\u001b[0m \u001b[38;5;66;03m# are element-wise, that is, the operators are applied only between corresponding\u001b[39;00m\n\u001b[0;32m      3\u001b[0m \u001b[38;5;66;03m# elements. These are objects that occupy the same position, so that the end result will be\u001b[39;00m\n\u001b[0;32m      4\u001b[0m \u001b[38;5;66;03m# a new array containing the results in the same location of the operands.\u001b[39;00m\n\u001b[1;32m----> 5\u001b[0m b \u001b[38;5;241m=\u001b[39m \u001b[43mnp\u001b[49m\u001b[38;5;241m.\u001b[39marange(\u001b[38;5;241m5\u001b[39m, \u001b[38;5;241m9\u001b[39m)\n\u001b[0;32m      6\u001b[0m \u001b[38;5;28mprint\u001b[39m( b )\n\u001b[0;32m      7\u001b[0m \u001b[38;5;28mprint\u001b[39m(\u001b[38;5;124m'\u001b[39m\u001b[38;5;124mAdd: \u001b[39m\u001b[38;5;124m'\u001b[39m, a \u001b[38;5;241m+\u001b[39m b)\n",
      "\u001b[1;31mNameError\u001b[0m: name 'np' is not defined"
     ]
    }
   ],
   "source": [
    "# These operators can also be used between two arrays. In NumPy, these operations\n",
    "# are element-wise, that is, the operators are applied only between corresponding\n",
    "# elements. These are objects that occupy the same position, so that the end result will be\n",
    "# a new array containing the results in the same location of the operands.\n",
    "b = np.arange(5, 9)\n",
    "print( b )\n",
    "print('Add: ', a + b)\n",
    "print('Sub: ', a - b)\n",
    "print('Multi: ', a * b)\n",
    "print('Div: ', a / b)\n"
   ]
  },
  {
   "cell_type": "code",
   "execution_count": 45,
   "metadata": {},
   "outputs": [
    {
     "name": "stdout",
     "output_type": "stream",
     "text": [
      "[-0.95892427 -0.558831    1.9709598   3.95743299] \n",
      "\n",
      "[ 2.23606798  4.89897949  7.93725393 11.3137085 ]\n"
     ]
    }
   ],
   "source": [
    "# these operators are also available for functions, provided that the value\n",
    "# returned is a NumPy array\n",
    "print(a * np.sin(b), '\\n')\n",
    "print(a * np.sqrt(b))"
   ]
  },
  {
   "cell_type": "code",
   "execution_count": null,
   "metadata": {},
   "outputs": [],
   "source": [
    "# Moving on to the multidimensional case, even here the arithmetic operators\n",
    "# continue to operate element-wise\n"
   ]
  }
 ],
 "metadata": {
  "kernelspec": {
   "display_name": "Python 3",
   "language": "python",
   "name": "python3"
  },
  "language_info": {
   "codemirror_mode": {
    "name": "ipython",
    "version": 3
   },
   "file_extension": ".py",
   "mimetype": "text/x-python",
   "name": "python",
   "nbconvert_exporter": "python",
   "pygments_lexer": "ipython3",
   "version": "3.12.1"
  }
 },
 "nbformat": 4,
 "nbformat_minor": 2
}
